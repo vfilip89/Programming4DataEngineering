{
 "cells": [
  {
   "cell_type": "markdown",
   "id": "76e13ef1",
   "metadata": {},
   "source": [
    "# **PySpark vs Pandas Execution in the Same Script**\n",
    "\n",
    "This notebook demonstrates how to use **PySpark** and **Pandas** together.  \n",
    "\n",
    "- **PySpark DataFrame**: Runs on a **distributed Spark cluster** (`spark://localhost:7077`), processing data in parallel.  \n",
    "- **Pandas DataFrame**: Runs **locally**, processing data in-memory on a single machine.  \n",
    "- **Spark Session**: Created with `SparkSession.builder`, enabling distributed computing.  \n",
    "- **Execution Flow**:\n",
    "  1. Connect to Spark.\n",
    "  2. Create a Spark DataFrame and display it.\n",
    "  3. Create a Pandas DataFrame and print it.\n",
    "  4. Stop the Spark session to release resources.\n",
    "\n",
    "⚡ **Use PySpark for big data & parallel processing, Pandas for small data & quick analysis.**\n"
   ]
  },
  {
   "cell_type": "code",
   "execution_count": 7,
   "id": "6e494901-ccb6-434d-ab38-1a277b442122",
   "metadata": {},
   "outputs": [
    {
     "name": "stderr",
     "output_type": "stream",
     "text": [
      "                                                                                \r"
     ]
    },
    {
     "name": "stdout",
     "output_type": "stream",
     "text": [
      "+---+-----+\n",
      "| id| name|\n",
      "+---+-----+\n",
      "|  1|Alice|\n",
      "|  2|  Bob|\n",
      "+---+-----+\n",
      "\n",
      "   id   name\n",
      "0   1  Alice\n",
      "1   2    Bob\n"
     ]
    }
   ],
   "source": [
    "import findspark\n",
    "findspark.init()\n",
    "\n",
    "from pyspark.sql import SparkSession\n",
    "\n",
    "spark = SparkSession.builder \\\n",
    "    .appName(\"PySpark-Test\") \\\n",
    "    .master(\"spark://localhost:7077\") \\\n",
    "    .getOrCreate()\n",
    "\n",
    "df = spark.createDataFrame([(1, \"Alice\"), (2, \"Bob\")], [\"id\", \"name\"])\n",
    "df.show()\n",
    "\n",
    "import pandas as pd\n",
    "df2 = pd.DataFrame([(1, \"Alice\"), (2, \"Bob\")], columns=[\"id\", \"name\"])\n",
    "print(df2)\n",
    "\n",
    "spark.stop()"
   ]
  }
 ],
 "metadata": {
  "kernelspec": {
   "display_name": "airflow_env",
   "language": "python",
   "name": "python3"
  },
  "language_info": {
   "codemirror_mode": {
    "name": "ipython",
    "version": 3
   },
   "file_extension": ".py",
   "mimetype": "text/x-python",
   "name": "python",
   "nbconvert_exporter": "python",
   "pygments_lexer": "ipython3",
   "version": "3.12.9"
  }
 },
 "nbformat": 4,
 "nbformat_minor": 5
}
