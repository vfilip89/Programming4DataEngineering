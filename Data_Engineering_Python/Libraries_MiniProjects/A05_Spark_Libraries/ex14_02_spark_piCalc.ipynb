{
 "cells": [
  {
   "cell_type": "markdown",
   "metadata": {},
   "source": [
    "# Estimating Pi Using PySpark\n",
    "\n",
    "This script demonstrates how to use **PySpark** to estimate the value of **π (Pi)** using **Monte Carlo simulation**. It distributes the computation across a Spark cluster, leveraging parallel processing.\n",
    "\n",
    "## **How It Works**\n",
    "The **Monte Carlo method** estimates Pi by randomly generating points inside a unit square and checking how many fall inside a quarter circle.\n",
    "\n",
    "- Uses:\n",
    "\n",
    "  $$\n",
    "  \\pi \\approx 4 \\times \\frac{\\text{Points inside}}{\\text{Total points generated}}\n",
    "  $$  "
   ]
  },
  {
   "cell_type": "code",
   "execution_count": 3,
   "metadata": {},
   "outputs": [
    {
     "name": "stderr",
     "output_type": "stream",
     "text": [
      "25/02/16 10:11:44 WARN GarbageCollectionMetrics: To enable non-built-in garbage collector(s) List(G1 Concurrent GC), users should configure it(them) to spark.eventLog.gcMetrics.youngGenerationGarbageCollectors or spark.eventLog.gcMetrics.oldGenerationGarbageCollectors\n",
      "                                                                                \r"
     ]
    },
    {
     "name": "stdout",
     "output_type": "stream",
     "text": [
      "Pi is roughly 3.140176\n"
     ]
    }
   ],
   "source": [
    "import findspark\n",
    "findspark.init()\n",
    "from pyspark.sql import SparkSession\n",
    "import random\n",
    "\n",
    "spark = SparkSession.builder \\\n",
    "    .master('spark://localhost:7077') \\\n",
    "    .appName('Pi-Estimation') \\\n",
    "    .getOrCreate()\n",
    "\n",
    "NUM_SAMPLES = 1000000  # Number of random points to sample\n",
    "\n",
    "def inside(p):\n",
    "    x, y = random.random(), random.random()\n",
    "    return x*x + y*y < 1\n",
    "\n",
    "count = spark.sparkContext.parallelize(range(0, NUM_SAMPLES)) \\\n",
    "        .filter(inside).count()\n",
    "print('Pi is roughly {}'.format(4.0 * count / NUM_SAMPLES))\n",
    "\n",
    "spark.stop()"
   ]
  },
  {
   "cell_type": "markdown",
   "metadata": {},
   "source": [
    "# Mathematics Behind the Monte Carlo Pi Estimation\n",
    "\n",
    "The **Monte Carlo method** is a statistical simulation technique that uses random sampling to estimate numerical results. In our example, we use it to estimate the value of **π (Pi)**.\n",
    "\n",
    "## Understanding the Problem: Estimating Pi (π)\n",
    "We inscribe a **quarter-circle** inside a **unit square** and use random points to estimate the ratio between their areas.\n",
    "\n",
    "### 1. The Geometric Setup\n",
    "We consider:\n",
    "\n",
    "- A **unit square** with side length **1**, covering the range **(0 ≤ x ≤ 1, 0 ≤ y ≤ 1)**.\n",
    "- A **quarter-circle** of radius **1**, centered at **(0,0)**, with the equation:\n",
    "\n",
    "  $$\n",
    "  x^2 + y^2 \\leq 1\n",
    "  $$\n",
    "\n",
    "- The **area** of the quarter-circle is:\n",
    "\n",
    "  $$\n",
    "  A_{\\text{circle}} = \\frac{\\pi r^2}{4} = \\frac{\\pi}{4}\n",
    "  $$\n",
    "\n",
    "- The **area** of the unit square is:\n",
    "\n",
    "  $$\n",
    "  A_{\\text{square}} = 1^2 = 1\n",
    "  $$\n",
    "\n",
    "### 2. Using Random Sampling\n",
    "We generate **random points** \\( (x, y) \\) inside the unit square:\n",
    "\n",
    "  $$\n",
    "  x, y \\sim U(0,1)\n",
    "  $$\n",
    "\n",
    "  *(Uniform distribution between 0 and 1)*\n",
    "\n",
    "We check if a point **falls inside the quarter-circle**:\n",
    "\n",
    "  $$\n",
    "  x^2 + y^2 < 1\n",
    "  $$\n",
    "\n",
    "The **probability** of a random point falling inside the quarter-circle is:\n",
    "\n",
    "  $$\n",
    "  P = \\frac{\\text{Points inside the quarter-circle}}{\\text{Total points generated}}\n",
    "  $$\n",
    "\n",
    "Since the **ratio of areas** is:\n",
    "\n",
    "  $$\n",
    "  \\frac{\\pi}{4} \\approx P\n",
    "  $$\n",
    "\n",
    "We can solve for **π**:\n",
    "\n",
    "  $$\n",
    "  \\pi \\approx 4 \\times P = 4 \\times \\frac{\\text{Points inside}}{\\text{Total points generated}}\n",
    "  $$\n",
    "\n",
    "This approximation gets **more accurate** as the number of random points increases!\n"
   ]
  }
 ],
 "metadata": {
  "kernelspec": {
   "display_name": "airflow_env",
   "language": "python",
   "name": "python3"
  },
  "language_info": {
   "codemirror_mode": {
    "name": "ipython",
    "version": 3
   },
   "file_extension": ".py",
   "mimetype": "text/x-python",
   "name": "python",
   "nbconvert_exporter": "python",
   "pygments_lexer": "ipython3",
   "version": "3.12.9"
  }
 },
 "nbformat": 4,
 "nbformat_minor": 2
}
